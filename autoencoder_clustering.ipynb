{
 "cells": [
  {
   "cell_type": "code",
   "execution_count": 1,
   "metadata": {},
   "outputs": [],
   "source": [
    "import os\n",
    "import pickle\n",
    "import shutil\n",
    "import re\n",
    "import time\n",
    "import math\n",
    "\n",
    "import torch\n",
    "import torch.nn as nn\n",
    "from torch.autograd import Variable\n",
    "import torch.nn.functional as F\n",
    "import torch.optim as optim\n",
    "import random\n",
    "import numpy as np\n",
    "\n",
    "from tqdm import tqdm\n",
    "\n",
    "import matplotlib.pyplot as plt\n",
    "import matplotlib.ticker as ticker\n",
    "\n",
    "from dataloader import GetDocumentObj, DictObj, GetTensor"
   ]
  },
  {
   "cell_type": "code",
   "execution_count": 2,
   "metadata": {},
   "outputs": [
    {
     "data": {
      "text/plain": [
       "True"
      ]
     },
     "execution_count": 2,
     "metadata": {},
     "output_type": "execute_result"
    }
   ],
   "source": [
    "USE_CUDA = torch.cuda.is_available()\n",
    "GPU_ID = 1\n",
    "\n",
    "USE_CUDA"
   ]
  },
  {
   "cell_type": "code",
   "execution_count": 3,
   "metadata": {},
   "outputs": [],
   "source": [
    "top_path = \"top_B.parse\"\n",
    "u20_path = \"u20_B.parse\""
   ]
  },
  {
   "cell_type": "code",
   "execution_count": 4,
   "metadata": {},
   "outputs": [
    {
     "data": {
      "text/plain": [
       "2274"
      ]
     },
     "execution_count": 4,
     "metadata": {},
     "output_type": "execute_result"
    }
   ],
   "source": [
    "label_dict = {top_path:0, u20_path:1}\n",
    "list_document = []; start_date = None ; end_date = None\n",
    "list_document, start_date, end_date = GetDocumentObj(list_document, top_path, label_dict[top_path], start_date, end_date)\n",
    "list_document, start_date, end_date = GetDocumentObj(list_document, u20_path, label_dict[u20_path], start_date, end_date)\n",
    "\n",
    "documents_obj = DictObj()\n",
    "documents_obj.SetDict(list_document)    \n",
    "time_tensor, loc_tensor, person_organ_tensor, morph_tensor, list_label = GetTensor(list_document, documents_obj, start_date, end_date)\n",
    "\n",
    "len(list_label)"
   ]
  },
  {
   "cell_type": "code",
   "execution_count": 5,
   "metadata": {},
   "outputs": [
    {
     "name": "stdout",
     "output_type": "stream",
     "text": [
      "탑 문서 수 :  1821\n",
      "u20 문서 수 :  453\n"
     ]
    }
   ],
   "source": [
    "# 갯수 맞추기\n",
    "top_indices = [i for i, x in enumerate(list_label) if x == 0]\n",
    "u20_indices = [i for i, x in enumerate(list_label) if x == 1]\n",
    "\n",
    "top_doc_size = len(top_indices)\n",
    "u20_doc_size = len(u20_indices)\n",
    "\n",
    "print('탑 문서 수 : ', top_doc_size)\n",
    "print('u20 문서 수 : ', u20_doc_size)"
   ]
  },
  {
   "cell_type": "code",
   "execution_count": 6,
   "metadata": {},
   "outputs": [
    {
     "name": "stdout",
     "output_type": "stream",
     "text": [
      "나머지 뷰 :  torch.Size([906, 10802])\n"
     ]
    }
   ],
   "source": [
    "# 나머지 뷰 갯수 맞추기\n",
    "top_morph_list = [[morph_tensor[i], 0] for i in top_indices]\n",
    "u20_morph_list = [[morph_tensor[i], 1] for i in u20_indices]\n",
    "\n",
    "top_morph_list = random.sample(top_morph_list, u20_doc_size)\n",
    "\n",
    "morph_list = top_morph_list + u20_morph_list\n",
    "random.shuffle(morph_list)\n",
    "\n",
    "morph_data = [data[0] for data in morph_list]\n",
    "morph_data = torch.stack(morph_data, dim=0).cuda(GPU_ID)\n",
    "morph_label = [data[1] for data in morph_list]\n",
    "\n",
    "print('나머지 뷰 : ', morph_data.size())"
   ]
  },
  {
   "cell_type": "code",
   "execution_count": 7,
   "metadata": {
    "scrolled": true
   },
   "outputs": [
    {
     "name": "stdout",
     "output_type": "stream",
     "text": [
      "시간 뷰 :  torch.Size([906, 180])\n"
     ]
    }
   ],
   "source": [
    "# 시간 뷰 갯수 맞추기\n",
    "top_time_list = [[time_tensor[i], 0] for i in top_indices]\n",
    "u20_time_list = [[time_tensor[i], 1] for i in u20_indices]\n",
    "\n",
    "top_time_list = random.sample(top_time_list, u20_doc_size)\n",
    "\n",
    "time_list = top_time_list + u20_time_list\n",
    "random.shuffle(time_list)\n",
    "\n",
    "time_data = [data[0] for data in time_list]\n",
    "time_data = torch.stack(time_data, dim=0).cuda(GPU_ID)\n",
    "time_label = [data[1] for data in time_list]\n",
    "\n",
    "print('시간 뷰 : ', time_data.size())"
   ]
  },
  {
   "cell_type": "code",
   "execution_count": null,
   "metadata": {},
   "outputs": [],
   "source": []
  },
  {
   "cell_type": "code",
   "execution_count": 8,
   "metadata": {},
   "outputs": [],
   "source": [
    "class SimpleAutoencoder(nn.Module):\n",
    "    def __init__(self, input_size):\n",
    "        super(SimpleAutoencoder, self).__init__()\n",
    "        self.encoder = nn.Sequential(\n",
    "            nn.Linear(input_size, int(input_size/2)), nn.ReLU(True),\n",
    "            nn.Linear(int(input_size/2), int(input_size/4)))\n",
    "        self.decoder = nn.Sequential(\n",
    "            nn.Linear(int(input_size/4), int(input_size/2)), nn.ReLU(True),\n",
    "            nn.Linear(int(input_size/2), input_size), nn.ReLU())  # ReLU, Tanh\n",
    "\n",
    "    def forward(self, x):\n",
    "        x = self.encoder(x)\n",
    "        x = self.decoder(x)\n",
    "        return x\n",
    "    \n",
    "    def getRepresentation(self, x):\n",
    "        x = self.encoder(x)\n",
    "        return x"
   ]
  },
  {
   "cell_type": "code",
   "execution_count": 9,
   "metadata": {},
   "outputs": [],
   "source": [
    "TOTAL_DATA_NUM = u20_doc_size*2\n",
    "TRAIN_DATA_NUM = int(TOTAL_DATA_NUM*0.8)\n",
    "TEST_DATA_NUM = TOTAL_DATA_NUM - TRAIN_DATA_NUM"
   ]
  },
  {
   "cell_type": "code",
   "execution_count": 10,
   "metadata": {},
   "outputs": [],
   "source": [
    "def getBatch(data, batch_size=128, isTrain=True):\n",
    "    if isTrain:\n",
    "        startIdx = 0\n",
    "        endIdx = TRAIN_DATA_NUM\n",
    "    else:\n",
    "        startIdx = TRAIN_DATA_NUM\n",
    "        endIdx = len(data)\n",
    "        \n",
    "    for idx in range(startIdx, endIdx, batch_size):\n",
    "        batch = data[idx:min(idx + batch_size, endIdx)]\n",
    "        yield batch"
   ]
  },
  {
   "cell_type": "code",
   "execution_count": 11,
   "metadata": {},
   "outputs": [],
   "source": [
    "def showPlot(points):\n",
    "    plt.figure()\n",
    "    fig, ax = plt.subplots()\n",
    "    # this locator puts ticks at regular intervals\n",
    "    loc = ticker.MultipleLocator(base=0.2)\n",
    "    ax.yaxis.set_major_locator(loc)\n",
    "    plt.plot(points)"
   ]
  },
  {
   "cell_type": "code",
   "execution_count": 12,
   "metadata": {
    "scrolled": true
   },
   "outputs": [],
   "source": [
    "def trainModel(model, inputs):\n",
    "    BATCH_SIZE = 256\n",
    "    NUM_EPOCH = 200\n",
    "    \n",
    "    LR = 1e-3\n",
    "    WEIGHT_DECAY = 1e-5\n",
    "    \n",
    "    criterion = nn.MSELoss()\n",
    "    optimizer = torch.optim.Adam(model.parameters(), lr=LR, weight_decay=WEIGHT_DECAY)\n",
    "    \n",
    "    plot_losses = []\n",
    "    print_loss_total = 0  # Reset every print_every\n",
    "    plot_loss_total = 0  # Reset every plot_every\n",
    "    print_every = NUM_EPOCH / 10\n",
    "    plot_every = NUM_EPOCH / 20\n",
    "    \n",
    "    for epoch in tqdm(range(1, NUM_EPOCH+1)):\n",
    "        for batch in getBatch(inputs, batch_size=BATCH_SIZE):\n",
    "            batch = Variable(torch.FloatTensor(batch.tolist())).cuda(GPU_ID)\n",
    "            # ===================forward=====================\n",
    "            output = model(batch).cuda(GPU_ID)\n",
    "            loss = criterion(output, batch)\n",
    "            # ===================backward====================\n",
    "            optimizer.zero_grad()\n",
    "            loss.backward()\n",
    "            optimizer.step()\n",
    "            \n",
    "            print_loss_total += loss.data[0]\n",
    "            plot_loss_total += loss.data[0]\n",
    "            \n",
    "        # ===================log========================\n",
    "        if epoch % print_every == 0:\n",
    "            print_loss_avg = print_loss_total / print_every\n",
    "            print_loss_total = 0\n",
    "            print('epoch [{}/{}], loss:{:.5f}'.format(epoch, NUM_EPOCH, loss.data[0]))\n",
    "        \n",
    "        if epoch % plot_every == 0:\n",
    "            plot_loss_avg = plot_loss_total / plot_every\n",
    "            plot_losses.append(plot_loss_avg)\n",
    "            plot_loss_total = 0\n",
    "    \n",
    "    showPlot(plot_losses)\n",
    "    #torch.save(model.state_dict(), './sim_autoencoder.pth')"
   ]
  },
  {
   "cell_type": "code",
   "execution_count": 13,
   "metadata": {},
   "outputs": [],
   "source": [
    "def evalModel(model, inputs):\n",
    "    BATCH_SIZE = 256\n",
    "    \n",
    "    criterion = nn.MSELoss()\n",
    "    \n",
    "    loss = 0\n",
    "    result = []\n",
    "    for batch in getBatch(inputs, batch_size=BATCH_SIZE, isTrain=False):\n",
    "        batch = Variable(torch.FloatTensor(batch.tolist())).cuda(GPU_ID)\n",
    "        \n",
    "        output = model(batch).cuda(GPU_ID)\n",
    "        result.append(output)\n",
    "        loss += criterion(output, batch)[0]\n",
    "        \n",
    "    return loss, result"
   ]
  },
  {
   "cell_type": "code",
   "execution_count": 14,
   "metadata": {
    "scrolled": true
   },
   "outputs": [
    {
     "name": "stderr",
     "output_type": "stream",
     "text": [
      " 10%|█         | 21/200 [00:02<00:17,  9.97it/s]"
     ]
    },
    {
     "name": "stdout",
     "output_type": "stream",
     "text": [
      "epoch [20/200], loss:0.02719\n"
     ]
    },
    {
     "name": "stderr",
     "output_type": "stream",
     "text": [
      " 20%|██        | 41/200 [00:03<00:13, 11.69it/s]"
     ]
    },
    {
     "name": "stdout",
     "output_type": "stream",
     "text": [
      "epoch [40/200], loss:0.02005\n"
     ]
    },
    {
     "name": "stderr",
     "output_type": "stream",
     "text": [
      " 30%|███       | 61/200 [00:04<00:10, 12.66it/s]"
     ]
    },
    {
     "name": "stdout",
     "output_type": "stream",
     "text": [
      "epoch [60/200], loss:0.01940\n"
     ]
    },
    {
     "name": "stderr",
     "output_type": "stream",
     "text": [
      " 40%|████      | 81/200 [00:06<00:09, 12.71it/s]"
     ]
    },
    {
     "name": "stdout",
     "output_type": "stream",
     "text": [
      "epoch [80/200], loss:0.01519\n"
     ]
    },
    {
     "name": "stderr",
     "output_type": "stream",
     "text": [
      " 52%|█████▏    | 103/200 [00:07<00:07, 13.22it/s]"
     ]
    },
    {
     "name": "stdout",
     "output_type": "stream",
     "text": [
      "epoch [100/200], loss:0.01406\n"
     ]
    },
    {
     "name": "stderr",
     "output_type": "stream",
     "text": [
      " 60%|██████    | 121/200 [00:09<00:05, 13.33it/s]"
     ]
    },
    {
     "name": "stdout",
     "output_type": "stream",
     "text": [
      "epoch [120/200], loss:0.01395\n"
     ]
    },
    {
     "name": "stderr",
     "output_type": "stream",
     "text": [
      " 72%|███████▏  | 143/200 [00:10<00:04, 13.31it/s]"
     ]
    },
    {
     "name": "stdout",
     "output_type": "stream",
     "text": [
      "epoch [140/200], loss:0.01196\n"
     ]
    },
    {
     "name": "stderr",
     "output_type": "stream",
     "text": [
      " 82%|████████▏ | 163/200 [00:12<00:02, 13.50it/s]"
     ]
    },
    {
     "name": "stdout",
     "output_type": "stream",
     "text": [
      "epoch [160/200], loss:0.00905\n"
     ]
    },
    {
     "name": "stderr",
     "output_type": "stream",
     "text": [
      " 92%|█████████▏| 183/200 [00:13<00:01, 13.56it/s]"
     ]
    },
    {
     "name": "stdout",
     "output_type": "stream",
     "text": [
      "epoch [180/200], loss:0.00692\n"
     ]
    },
    {
     "name": "stderr",
     "output_type": "stream",
     "text": [
      "100%|██████████| 200/200 [00:14<00:00, 13.66it/s]\n"
     ]
    },
    {
     "name": "stdout",
     "output_type": "stream",
     "text": [
      "epoch [200/200], loss:0.00691\n"
     ]
    },
    {
     "data": {
      "text/plain": [
       "<Figure size 432x288 with 0 Axes>"
      ]
     },
     "metadata": {},
     "output_type": "display_data"
    },
    {
     "data": {
      "image/png": "[encoded data removed]",
      "text/plain": [
       "<Figure size 432x288 with 1 Axes>"
      ]
     },
     "metadata": {},
     "output_type": "display_data"
    }
   ],
   "source": [
    "# 시간뷰 (180 dim)\n",
    "inputs = time_data.cpu()   # ??????????????????????? cpu를 때보자 속도가 왜저럴까..\n",
    "INPUT_SIZE = inputs.size()[1]\n",
    "\n",
    "model_time = SimpleAutoencoder(INPUT_SIZE).cuda(GPU_ID)\n",
    "trainModel(model_time, inputs)"
   ]
  },
  {
   "cell_type": "code",
   "execution_count": 15,
   "metadata": {
    "scrolled": true
   },
   "outputs": [
    {
     "name": "stderr",
     "output_type": "stream",
     "text": [
      " 10%|█         | 20/200 [00:54<08:08,  2.71s/it]"
     ]
    },
    {
     "name": "stdout",
     "output_type": "stream",
     "text": [
      "epoch [20/200], loss:0.03279\n"
     ]
    },
    {
     "name": "stderr",
     "output_type": "stream",
     "text": [
      " 20%|██        | 40/200 [01:47<07:11,  2.70s/it]"
     ]
    },
    {
     "name": "stdout",
     "output_type": "stream",
     "text": [
      "epoch [40/200], loss:0.02812\n"
     ]
    },
    {
     "name": "stderr",
     "output_type": "stream",
     "text": [
      " 30%|███       | 60/200 [02:41<06:16,  2.69s/it]"
     ]
    },
    {
     "name": "stdout",
     "output_type": "stream",
     "text": [
      "epoch [60/200], loss:0.02632\n"
     ]
    },
    {
     "name": "stderr",
     "output_type": "stream",
     "text": [
      " 40%|████      | 80/200 [03:34<05:22,  2.69s/it]"
     ]
    },
    {
     "name": "stdout",
     "output_type": "stream",
     "text": [
      "epoch [80/200], loss:0.02574\n"
     ]
    },
    {
     "name": "stderr",
     "output_type": "stream",
     "text": [
      " 50%|█████     | 100/200 [04:28<04:28,  2.68s/it]"
     ]
    },
    {
     "name": "stdout",
     "output_type": "stream",
     "text": [
      "epoch [100/200], loss:0.02497\n"
     ]
    },
    {
     "name": "stderr",
     "output_type": "stream",
     "text": [
      " 60%|██████    | 120/200 [05:20<03:33,  2.67s/it]"
     ]
    },
    {
     "name": "stdout",
     "output_type": "stream",
     "text": [
      "epoch [120/200], loss:0.02464\n"
     ]
    },
    {
     "name": "stderr",
     "output_type": "stream",
     "text": [
      " 70%|███████   | 140/200 [06:14<02:40,  2.67s/it]"
     ]
    },
    {
     "name": "stdout",
     "output_type": "stream",
     "text": [
      "epoch [140/200], loss:0.02461\n"
     ]
    },
    {
     "name": "stderr",
     "output_type": "stream",
     "text": [
      " 80%|████████  | 160/200 [07:07<01:46,  2.67s/it]"
     ]
    },
    {
     "name": "stdout",
     "output_type": "stream",
     "text": [
      "epoch [160/200], loss:0.02436\n"
     ]
    },
    {
     "name": "stderr",
     "output_type": "stream",
     "text": [
      " 90%|█████████ | 180/200 [08:02<00:53,  2.68s/it]"
     ]
    },
    {
     "name": "stdout",
     "output_type": "stream",
     "text": [
      "epoch [180/200], loss:0.02459\n"
     ]
    },
    {
     "name": "stderr",
     "output_type": "stream",
     "text": [
      "100%|██████████| 200/200 [08:56<00:00,  2.68s/it]"
     ]
    },
    {
     "name": "stdout",
     "output_type": "stream",
     "text": [
      "epoch [200/200], loss:0.02425\n"
     ]
    },
    {
     "name": "stderr",
     "output_type": "stream",
     "text": [
      "\n"
     ]
    },
    {
     "data": {
      "text/plain": [
       "<Figure size 432x288 with 0 Axes>"
      ]
     },
     "metadata": {},
     "output_type": "display_data"
    },
    {
     "data": {
      "image/png": "[encoded data removed]",
      "text/plain": [
       "<Figure size 432x288 with 1 Axes>"
      ]
     },
     "metadata": {},
     "output_type": "display_data"
    }
   ],
   "source": [
    "# 나머지뷰 (10802 dim)\n",
    "inputs = morph_data.cpu()\n",
    "INPUT_SIZE = inputs.size()[1]\n",
    "\n",
    "model_morph = SimpleAutoencoder(INPUT_SIZE).cuda(GPU_ID)\n",
    "trainModel(model_morph, inputs)"
   ]
  },
  {
   "cell_type": "code",
   "execution_count": null,
   "metadata": {
    "scrolled": true
   },
   "outputs": [],
   "source": [
    "results = []\n",
    "\n",
    "results.append(evalModel(model_time, time_tensor))\n",
    "results.append(evalModel(model_morph, morph_tensor))\n",
    "\n",
    "[result[0].data.tolist()[0]/TEST_DATA_NUM for result in results]"
   ]
  },
  {
   "cell_type": "code",
   "execution_count": null,
   "metadata": {},
   "outputs": [],
   "source": []
  },
  {
   "cell_type": "code",
   "execution_count": 17,
   "metadata": {},
   "outputs": [],
   "source": [
    "# 직접 결과 보기 (시간뷰)\n",
    "\n",
    "# 탑\n",
    "test_input = torch.unsqueeze(top_time_list[0][0], dim=0).cuda()\n",
    "test_input = Variable(torch.FloatTensor(test_input.tolist())).cuda(GPU_ID)\n",
    "test_output = model_time(test_input)"
   ]
  },
  {
   "cell_type": "code",
   "execution_count": 18,
   "metadata": {},
   "outputs": [],
   "source": [
    "with open(\"time_MSE_top.txt\", \"w\") as f:\n",
    "    compared_list = list(zip(np.round(test_input.data.tolist(), decimals=4).tolist()[0], np.round(test_output.data.tolist(), decimals=4).tolist()[0]))\n",
    "    \n",
    "    f.write('tgt gen\\n')\n",
    "    for compared in compared_list:\n",
    "        f.write('{} {}\\n'.format(compared[0], compared[1]))"
   ]
  },
  {
   "cell_type": "code",
   "execution_count": 19,
   "metadata": {},
   "outputs": [],
   "source": [
    "# u20\n",
    "test_input = torch.unsqueeze(u20_time_list[0][0], dim=0).cuda()\n",
    "test_input = Variable(torch.FloatTensor(test_input.tolist())).cuda(GPU_ID)\n",
    "test_output = model_time(test_input)"
   ]
  },
  {
   "cell_type": "code",
   "execution_count": 20,
   "metadata": {},
   "outputs": [],
   "source": [
    "with open(\"time_MSE_u20.txt\", \"w\") as f:\n",
    "    compared_list = list(zip(np.round(test_input.data.tolist(), decimals=4).tolist()[0], np.round(test_output.data.tolist(), decimals=4).tolist()[0]))\n",
    "    \n",
    "    f.write('tgt gen\\n')\n",
    "    for compared in compared_list:\n",
    "        f.write('{} {}\\n'.format(compared[0], compared[1]))"
   ]
  },
  {
   "cell_type": "code",
   "execution_count": null,
   "metadata": {},
   "outputs": [],
   "source": []
  },
  {
   "cell_type": "code",
   "execution_count": 21,
   "metadata": {},
   "outputs": [],
   "source": [
    "# 직접 결과 보기 (나머지 뷰)\n",
    "\n",
    "# 탑\n",
    "test_input = torch.unsqueeze(top_morph_list[0][0], dim=0).cuda()\n",
    "test_input = Variable(torch.FloatTensor(test_input.tolist())).cuda(GPU_ID)\n",
    "test_output = model_morph(test_input)"
   ]
  },
  {
   "cell_type": "code",
   "execution_count": 22,
   "metadata": {},
   "outputs": [],
   "source": [
    "with open(\"morph_MSE_top.txt\", \"w\") as f:\n",
    "    compared_list = list(zip(np.round(test_input.data.tolist(), decimals=4).tolist()[0], np.round(test_output.data.tolist(), decimals=4).tolist()[0]))\n",
    "    \n",
    "    f.write('tgt gen\\n')\n",
    "    for compared in compared_list:\n",
    "        f.write('{} {}\\n'.format(compared[0], compared[1]))"
   ]
  },
  {
   "cell_type": "code",
   "execution_count": 23,
   "metadata": {},
   "outputs": [],
   "source": [
    "# u20\n",
    "test_input = torch.unsqueeze(u20_morph_list[0][0], dim=0).cuda()\n",
    "test_input = Variable(torch.FloatTensor(test_input.tolist())).cuda(GPU_ID)\n",
    "test_output = model_morph(test_input)"
   ]
  },
  {
   "cell_type": "code",
   "execution_count": 24,
   "metadata": {},
   "outputs": [],
   "source": [
    "with open(\"morph_MSE_u20.txt\", \"w\") as f:\n",
    "    compared_list = list(zip(np.round(test_input.data.tolist(), decimals=4).tolist()[0], np.round(test_output.data.tolist(), decimals=4).tolist()[0]))\n",
    "    \n",
    "    f.write('tgt gen\\n')\n",
    "    for compared in compared_list:\n",
    "        f.write('{} {}\\n'.format(compared[0], compared[1]))"
   ]
  },
  {
   "cell_type": "code",
   "execution_count": null,
   "metadata": {},
   "outputs": [],
   "source": []
  },
  {
   "cell_type": "code",
   "execution_count": null,
   "metadata": {},
   "outputs": [],
   "source": [
    "# K-means Clurstering\n",
    "from sklearn.cluster import KMeans\n",
    "\n",
    "# 시간 뷰 \n",
    "# Train\n",
    "inputs = Variable(next(getBatch(time_data, batch_size=TRAIN_DATA_NUM)))\n",
    "batch_rep = model_time.getRepresentation(inputs).cpu().data.tolist()"
   ]
  },
  {
   "cell_type": "code",
   "execution_count": null,
   "metadata": {},
   "outputs": [],
   "source": [
    "kmeans_time = KMeans(n_clusters=2, random_state=0).fit(batch_rep)\n",
    "gen_label = kmeans_time.labels_\n",
    "\n",
    "acc = sum(1 for gen, tar in zip(gen_label, time_label) if gen == tar) / TRAIN_DATA_NUM\n",
    "acc"
   ]
  },
  {
   "cell_type": "code",
   "execution_count": null,
   "metadata": {},
   "outputs": [],
   "source": [
    "# Evaluation\n",
    "inputs = Variable(next(getBatch(time_data, batch_size=TEST_DATA_NUM, isTrain=False)))\n",
    "batch_rep = model_time.getRepresentation(inputs).cpu().data.tolist()"
   ]
  },
  {
   "cell_type": "code",
   "execution_count": null,
   "metadata": {},
   "outputs": [],
   "source": [
    "gen_label = kmeans_time.predict(batch_rep)\n",
    "\n",
    "acc = sum(1 for gen, tar in zip(gen_label, time_label) if gen == tar) / TEST_DATA_NUM\n",
    "acc"
   ]
  },
  {
   "cell_type": "code",
   "execution_count": null,
   "metadata": {},
   "outputs": [],
   "source": []
  },
  {
   "cell_type": "code",
   "execution_count": 116,
   "metadata": {
    "scrolled": true
   },
   "outputs": [],
   "source": [
    "# 나머지 뷰\n",
    "# Train\n",
    "inputs = Variable(torch.FloatTensor(next(getBatch(morph_data, batch_size=TRAIN_DATA_NUM)).tolist())).cuda(GPU_ID)\n",
    "batch_rep = model_morph.getRepresentation(inputs).cpu().data.numpy()"
   ]
  },
  {
   "cell_type": "code",
   "execution_count": 117,
   "metadata": {},
   "outputs": [
    {
     "data": {
      "text/plain": [
       "3.967032967032967"
      ]
     },
     "execution_count": 117,
     "metadata": {},
     "output_type": "execute_result"
    }
   ],
   "source": [
    "kmeans_morph = KMeans(n_clusters=2, random_state=0).fit(batch_rep)\n",
    "gen_label = kmeans_morph.labels_\n",
    "\n",
    "acc = sum(1 for gen, tar in zip(gen_label, morph_label) if gen == tar) / TRAIN_DATA_NUM\n",
    "acc"
   ]
  },
  {
   "cell_type": "code",
   "execution_count": 118,
   "metadata": {},
   "outputs": [],
   "source": [
    "# Evaluation\n",
    "inputs = Variable(torch.FloatTensor(next(getBatch(morph_data, batch_size=TEST_DATA_NUM, isTrain=False)).tolist())).cuda(GPU_ID)\n",
    "batch_rep = model_morph.getRepresentation(inputs).cpu().data.numpy()"
   ]
  },
  {
   "cell_type": "code",
   "execution_count": null,
   "metadata": {},
   "outputs": [],
   "source": [
    "gen_label = kmeans_morph.predict(inputs)\n",
    "\n",
    "acc = sum(1 for gen, tar in zip(gen_label, morph_label) if gen == tar) / TEST_DATA_NUM\n",
    "acc"
   ]
  },
  {
   "cell_type": "code",
   "execution_count": null,
   "metadata": {},
   "outputs": [],
   "source": []
  }
 ],
 "metadata": {
  "kernelspec": {
   "display_name": "Python 3",
   "language": "python",
   "name": "python3"
  },
  "language_info": {
   "codemirror_mode": {
    "name": "ipython",
    "version": 3
   },
   "file_extension": ".py",
   "mimetype": "text/x-python",
   "name": "python",
   "nbconvert_exporter": "python",
   "pygments_lexer": "ipython3",
   "version": "3.5.2"
  }
 },
 "nbformat": 4,
 "nbformat_minor": 2
}
